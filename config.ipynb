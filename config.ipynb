{
 "cells": [
  {
   "cell_type": "code",
   "execution_count": 3,
   "metadata": {},
   "outputs": [
    {
     "name": "stdout",
     "output_type": "stream",
     "text": [
      "Overwriting config.py\n"
     ]
    }
   ],
   "source": [
    "%%file config.py\n",
    "class Config(object):\n",
    "    \n",
    "    train_data_root = 'dataset/training_set'\n",
    "    val_data_root = 'dataset/val_set'\n",
    "    test_data_root = 'dataset/test_set'\n",
    "    output_sample = 'output_sample'\n",
    "    load_model_path = None\n",
    "    \n",
    "    kernel_size = 3\n",
    "    rate_num = 5\n",
    "    conv = True\n",
    "    ranking = False\n",
    "    \n",
    "    batch_size = 1\n",
    "    val_batch_size = 1\n",
    "    num_workers = 0\n",
    "    lr = 0.1 # initial learning rate\n",
    "    weight_decay = 0.95 \n",
    "    \n",
    "    max_epoch = 10\n",
    "    display_iter = 2\n",
    "    sample_iter = 5\n",
    "    \n",
    "    lr_decay = 0.95\n",
    "     "
   ]
  },
  {
   "cell_type": "code",
   "execution_count": null,
   "metadata": {
    "collapsed": true
   },
   "outputs": [],
   "source": []
  }
 ],
 "metadata": {
  "kernelspec": {
   "display_name": "Python 3",
   "language": "python",
   "name": "python3"
  },
  "language_info": {
   "codemirror_mode": {
    "name": "ipython",
    "version": 3
   },
   "file_extension": ".py",
   "mimetype": "text/x-python",
   "name": "python",
   "nbconvert_exporter": "python",
   "pygments_lexer": "ipython3",
   "version": "3.6.2"
  }
 },
 "nbformat": 4,
 "nbformat_minor": 2
}

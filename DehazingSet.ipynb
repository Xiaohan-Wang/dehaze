{
 "cells": [
  {
   "cell_type": "code",
   "execution_count": null,
   "metadata": {
    "collapsed": true
   },
   "outputs": [],
   "source": [
    "# !list\n",
    "# !tree dataset"
   ]
  },
  {
   "cell_type": "code",
   "execution_count": 5,
   "metadata": {},
   "outputs": [
    {
     "name": "stdout",
     "output_type": "stream",
     "text": [
      "Overwriting DehazingSet.py\n"
     ]
    }
   ],
   "source": [
    "%%file DehazingSet.py\n",
    "\n",
    "import os\n",
    "from PIL import Image\n",
    "from torch.utils import data\n",
    "from torchvision import transforms as T\n",
    "\n",
    "class DehazingSet(data.Dataset):\n",
    "    def __init__(self, root):\n",
    "        gt_imgs = os.listdir(root + '/gt')\n",
    "        hazy_imgs = os.listdir(root + '/hazy')\n",
    "        self.gt_imgs = [root + '/gt/' + img for img in gt_imgs]\n",
    "        self.hazy_imgs = [root + '/hazy/' + img for img in hazy_imgs]\n",
    "        self.transform = T.Compose([\n",
    "            T.ToTensor(),\n",
    "            T.Normalize(mean = [.5, .5, .5], std = [.5, .5, .5]),\n",
    "            T.CenterCrop(32)\n",
    "        ])\n",
    "    \n",
    "    def __getitem__(self, index):\n",
    "        gt_path = self.gt_imgs[index]\n",
    "        hazy_path = self.hazy_imgs[index]\n",
    "        gt_img = Image.open(gt_path)\n",
    "        if self.transform:\n",
    "            gt_img = self.transform(gt_img)\n",
    "            hazy_img = self.transform(hazy_img)\n",
    "            hazy_img = Image.open(hazy_path)\n",
    "        print(\"gt Image {}: {}\".format(index, gt_img.size()))\n",
    "        print(\"hazy Image {}: {}\".format(index, hazy_img.size()))\n",
    "        return hazy_img, gt_img\n",
    "    \n",
    "    def __len__(self):\n",
    "        return len(self.gt_imgs)"
   ]
  },
  {
   "cell_type": "code",
   "execution_count": 3,
   "metadata": {
    "collapsed": true
   },
   "outputs": [],
   "source": [
    "# A = DehazingSet('./dataset/training_set')\n",
    "# transform = T.Compose([\n",
    "#     T.Normalize(mean = [-1,-1,-1], std = [2,2,2]),\n",
    "#     T.ToPILImage()\n",
    "# ])\n",
    "# transform(A[2][0]).show()"
   ]
  }
 ],
 "metadata": {
  "kernelspec": {
   "display_name": "Python 3",
   "language": "python",
   "name": "python3"
  },
  "language_info": {
   "codemirror_mode": {
    "name": "ipython",
    "version": 3
   },
   "file_extension": ".py",
   "mimetype": "text/x-python",
   "name": "python",
   "nbconvert_exporter": "python",
   "pygments_lexer": "ipython3",
   "version": "3.6.2"
  }
 },
 "nbformat": 4,
 "nbformat_minor": 2
}

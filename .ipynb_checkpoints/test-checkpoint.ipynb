{
 "cells": [
  {
   "cell_type": "code",
   "execution_count": null,
   "metadata": {},
   "outputs": [],
   "source": [
    "from DehazeNet import DehazeNet\n",
    "from torch.utils.data import DataLoader\n",
    "from torch.autograd import Variable\n",
    "from torchnet import meter\n",
    "import Config"
   ]
  },
  {
   "cell_type": "code",
   "execution_count": 1,
   "metadata": {},
   "outputs": [],
   "source": [
    "def test(opt):\n",
    "    model = DehazeNet(opt.kernel_size, opt.rate_num,opt.conv, opt.ranking)\n",
    "    model.load(opt.load_model_path)\n",
    "    \n",
    "    test_set = DehazingSet(opt.test_data_root)\n",
    "    dataloader = DataLoader(test_set,opt.batch_size, shuffle = True, num_workers = opt.num_workers)\n",
    "    \n",
    "    loss_meter = meter.AverageValueMeter()\n",
    "    \n",
    "    for iteration, (hazy_img, gt_img) in enumerate(dataloader):\n",
    "        input_data = Variable(hazy_img)\n",
    "        target_data = Variable(gt_img)\n",
    "        \n",
    "        output_result = model(input_data)\n",
    "        loss = nn.MSELoss()(output_result, target_data)\n",
    "        \n",
    "        loss_meter.add(loss.data[0])\n",
    "    \n",
    "    print(\"Loss at Test set:\", loss_meter.value()[0])      "
   ]
  },
  {
   "cell_type": "code",
   "execution_count": null,
   "metadata": {},
   "outputs": [],
   "source": [
    "if __name__ == '__main__':\n",
    "    opt = Config()\n",
    "    test(opt)"
   ]
  }
 ],
 "metadata": {
  "kernelspec": {
   "display_name": "Python 3",
   "language": "python",
   "name": "python3"
  },
  "language_info": {
   "codemirror_mode": {
    "name": "ipython",
    "version": 3
   },
   "file_extension": ".py",
   "mimetype": "text/x-python",
   "name": "python",
   "nbconvert_exporter": "python",
   "pygments_lexer": "ipython3",
   "version": "3.6.8"
  }
 },
 "nbformat": 4,
 "nbformat_minor": 2
}
